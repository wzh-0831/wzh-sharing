{
 "cells": [
  {
   "cell_type": "markdown",
   "id": "bc434bc3",
   "metadata": {},
   "source": [
    "在合适的位置插入适量的单元格来完成计算和展示计算结果。"
   ]
  },
  {
   "cell_type": "markdown",
   "id": "2756a54e",
   "metadata": {},
   "source": [
    "# 按照提示完成下面操作"
   ]
  },
  {
   "cell_type": "markdown",
   "id": "ddf17b49",
   "metadata": {},
   "source": [
    "导入numpy库："
   ]
  },
  {
   "cell_type": "code",
   "execution_count": 67,
   "id": "2310cecb",
   "metadata": {},
   "outputs": [],
   "source": [
    "import numpy as np"
   ]
  },
  {
   "cell_type": "markdown",
   "id": "966694ca",
   "metadata": {},
   "source": [
    "新建一个4行5列的数组x，其值按照行排列依次为1，2，3，4,....,20："
   ]
  },
  {
   "cell_type": "code",
   "execution_count": 68,
   "id": "aa6ac4b7",
   "metadata": {},
   "outputs": [
    {
     "data": {
      "text/plain": [
       "array([[ 1,  2,  3,  4,  5],\n",
       "       [ 6,  7,  8,  9, 10],\n",
       "       [11, 12, 13, 14, 15],\n",
       "       [16, 17, 18, 19, 20]])"
      ]
     },
     "execution_count": 68,
     "metadata": {},
     "output_type": "execute_result"
    }
   ],
   "source": [
    "x = np.array([[1,2,3,4,5],[6,7,8,9,10],[11,12,13,14,15],[16,17,18,19,20]])\n",
    "x"
   ]
  },
  {
   "cell_type": "markdown",
   "id": "e2ddb5e4",
   "metadata": {},
   "source": [
    "取得其第0列（降维）"
   ]
  },
  {
   "cell_type": "code",
   "execution_count": 69,
   "id": "e2102962",
   "metadata": {},
   "outputs": [
    {
     "data": {
      "text/plain": [
       "array([ 1,  6, 11, 16])"
      ]
     },
     "execution_count": 69,
     "metadata": {},
     "output_type": "execute_result"
    }
   ],
   "source": [
    "array_0=x[:,0]\n",
    "array_0"
   ]
  },
  {
   "cell_type": "markdown",
   "id": "053c1ac9",
   "metadata": {},
   "source": [
    "取得其第0列（不降维）"
   ]
  },
  {
   "cell_type": "code",
   "execution_count": 70,
   "id": "e123eb27",
   "metadata": {},
   "outputs": [
    {
     "data": {
      "text/plain": [
       "array([[ 1],\n",
       "       [ 6],\n",
       "       [11],\n",
       "       [16]])"
      ]
     },
     "execution_count": 70,
     "metadata": {},
     "output_type": "execute_result"
    }
   ],
   "source": [
    "array_1=x[:,0:1]\n",
    "array_1"
   ]
  },
  {
   "cell_type": "markdown",
   "id": "98757c9d",
   "metadata": {},
   "source": [
    "取得其第0到1列"
   ]
  },
  {
   "cell_type": "code",
   "execution_count": 71,
   "id": "c592c358",
   "metadata": {},
   "outputs": [
    {
     "data": {
      "text/plain": [
       "array([[ 1,  2],\n",
       "       [ 6,  7],\n",
       "       [11, 12],\n",
       "       [16, 17]])"
      ]
     },
     "execution_count": 71,
     "metadata": {},
     "output_type": "execute_result"
    }
   ],
   "source": [
    "array_2=x[:,0:2]\n",
    "array_2"
   ]
  },
  {
   "cell_type": "markdown",
   "id": "27386333",
   "metadata": {},
   "source": [
    "将x转化成一般的列表（list）"
   ]
  },
  {
   "cell_type": "code",
   "execution_count": 72,
   "id": "902023f9",
   "metadata": {},
   "outputs": [
    {
     "data": {
      "text/plain": [
       "[array([1, 2, 3, 4, 5]),\n",
       " array([ 6,  7,  8,  9, 10]),\n",
       " array([11, 12, 13, 14, 15]),\n",
       " array([16, 17, 18, 19, 20])]"
      ]
     },
     "execution_count": 72,
     "metadata": {},
     "output_type": "execute_result"
    }
   ],
   "source": [
    "x_list=list(x)\n",
    "x_list"
   ]
  },
  {
   "cell_type": "markdown",
   "id": "2e1b5010",
   "metadata": {},
   "source": [
    "# 拼接"
   ]
  },
  {
   "cell_type": "code",
   "execution_count": 73,
   "id": "dd889b36",
   "metadata": {},
   "outputs": [],
   "source": [
    "a = np.arange(10).reshape(2,-1)\n",
    "b = np.repeat(1, 10).reshape(2,-1)"
   ]
  },
  {
   "cell_type": "markdown",
   "id": "e9f949d0",
   "metadata": {},
   "source": [
    "写代码拼接，获得下面的结果："
   ]
  },
  {
   "cell_type": "code",
   "execution_count": 74,
   "id": "72088433",
   "metadata": {},
   "outputs": [
    {
     "data": {
      "text/plain": [
       "array([[0, 1, 2, 3, 4],\n",
       "       [5, 6, 7, 8, 9],\n",
       "       [1, 1, 1, 1, 1],\n",
       "       [1, 1, 1, 1, 1]])"
      ]
     },
     "execution_count": 74,
     "metadata": {},
     "output_type": "execute_result"
    }
   ],
   "source": [
    "ab_0 = np.concatenate((a,b),axis=0)\n",
    "ab_0\n",
    "#> array([[0, 1, 2, 3, 4],\n",
    "#>        [5, 6, 7, 8, 9],\n",
    "#>        [1, 1, 1, 1, 1],\n",
    "#>        [1, 1, 1, 1, 1]])"
   ]
  },
  {
   "cell_type": "markdown",
   "id": "2c98760e",
   "metadata": {},
   "source": [
    "写代码拼接，获得下面的结果："
   ]
  },
  {
   "cell_type": "code",
   "execution_count": 75,
   "id": "d5f536eb",
   "metadata": {},
   "outputs": [
    {
     "data": {
      "text/plain": [
       "array([[0, 1, 2, 3, 4, 1, 1, 1, 1, 1],\n",
       "       [5, 6, 7, 8, 9, 1, 1, 1, 1, 1]])"
      ]
     },
     "execution_count": 75,
     "metadata": {},
     "output_type": "execute_result"
    }
   ],
   "source": [
    "ab_1 = np.concatenate((a,b),axis=1)\n",
    "ab_1\n",
    "#> array([[0, 1, 2, 3, 4, 1, 1, 1, 1, 1],\n",
    "#>        [5, 6, 7, 8, 9, 1, 1, 1, 1, 1]])"
   ]
  },
  {
   "cell_type": "markdown",
   "id": "aac63ee9",
   "metadata": {},
   "source": [
    "```\n",
    "Resource:############# https://numpy.org/doc/stable/reference/generated/numpy.concatenate.html\n",
    "numpy.concatenate\n",
    "numpy.concatenate((a1, a2, ...), axis=0, out=None, dtype=None, casting=\"same_kind\")\n",
    "Join a sequence of arrays along an existing axis.\n",
    "\n",
    "Parameters\n",
    "a1, a2, …sequence of array_like\n",
    "    The arrays must have the same shape, except in the dimension corresponding to axis (the first, by default).\n",
    "\n",
    "axisint, optional\n",
    "    The axis along which the arrays will be joined. If axis is None, arrays are flattened before use. Default is 0.\n",
    "\n",
    "outndarray, optional\n",
    "    If provided, the destination to place the result. The shape must be correct, matching that of what concatenate would have returned if no out argument were specified.\n",
    "\n",
    "dtypestr or dtype\n",
    "    If provided, the destination array will have this dtype. Cannot be provided together with out.\n",
    "\n",
    "New in version 1.20.0.\n",
    "\n",
    "casting{‘no’, ‘equiv’, ‘safe’, ‘same_kind’, ‘unsafe’}, optional\n",
    "Controls what kind of data casting may occur. Defaults to ‘same_kind’.\n",
    "\n",
    "New in version 1.20.0.\n",
    "\n",
    "Returns\n",
    "resndarray\n",
    "The concatenated array.\n",
    "\n",
    "See also\n",
    "\n",
    "ma.concatenate\n",
    "Concatenate function that preserves input masks.\n",
    "\n",
    "array_split\n",
    "Split an array into multiple sub-arrays of equal or near-equal size.\n",
    "\n",
    "split\n",
    "Split array into a list of multiple sub-arrays of equal size.\n",
    "\n",
    "hsplit\n",
    "Split array into multiple sub-arrays horizontally (column wise).\n",
    "\n",
    "vsplit\n",
    "Split array into multiple sub-arrays vertically (row wise).\n",
    "\n",
    "dsplit\n",
    "Split array into multiple sub-arrays along the 3rd axis (depth).\n",
    "\n",
    "stack\n",
    "Stack a sequence of arrays along a new axis.\n",
    "\n",
    "block\n",
    "Assemble arrays from blocks.\n",
    "\n",
    "hstack\n",
    "Stack arrays in sequence horizontally (column wise).\n",
    "\n",
    "vstack\n",
    "Stack arrays in sequence vertically (row wise).\n",
    "\n",
    "dstack\n",
    "Stack arrays in sequence depth wise (along third dimension).\n",
    "\n",
    "column_stack\n",
    "Stack 1-D arrays as columns into a 2-D array.\n",
    "\n",
    "Notes\n",
    "\n",
    "When one or more of the arrays to be concatenated is a MaskedArray, this function will return a MaskedArray object instead of an ndarray, but the input masks are not preserved. In cases where a MaskedArray is expected as input, use the ma.concatenate function from the masked array module instead.\n",
    "\n",
    "Examples\n",
    "\n",
    "a = np.array([[1, 2], [3, 4]])\n",
    "b = np.array([[5, 6]])\n",
    "np.concatenate((a, b), axis=0)\n",
    "array([[1, 2],\n",
    "       [3, 4],\n",
    "       [5, 6]])\n",
    "np.concatenate((a, b.T), axis=1)\n",
    "array([[1, 2, 5],\n",
    "       [3, 4, 6]])\n",
    "np.concatenate((a, b), axis=None)\n",
    "array([1, 2, 3, 4, 5, 6])\n",
    "This function will not preserve masking of MaskedArray inputs.\n",
    "\n",
    "a = np.ma.arange(3)\n",
    "a[1] = np.ma.masked\n",
    "b = np.arange(2, 5)\n",
    "a\n",
    "masked_array(data=[0, --, 2],\n",
    "             mask=[False,  True, False],\n",
    "       fill_value=999999)\n",
    "b\n",
    "array([2, 3, 4])\n",
    "np.concatenate([a, b])\n",
    "masked_array(data=[0, 1, 2, 2, 3, 4],\n",
    "             mask=False,\n",
    "       fill_value=999999)\n",
    "np.ma.concatenate([a, b])\n",
    "masked_array(data=[0, --, 2, 2, 3, 4],\n",
    "             mask=[False,  True, False, False, False, False],\n",
    "       fill_value=999999)\n",
    "```"
   ]
  },
  {
   "cell_type": "markdown",
   "id": "e619ec09",
   "metadata": {},
   "source": [
    "# 矩阵计算"
   ]
  },
  {
   "cell_type": "markdown",
   "id": "96bb6035",
   "metadata": {},
   "source": [
    "用np.random.uniform来产生0和1之间的均匀分布随机数矩阵X，尺寸为4行3列。"
   ]
  },
  {
   "cell_type": "code",
   "execution_count": 76,
   "id": "bd523036",
   "metadata": {},
   "outputs": [
    {
     "data": {
      "text/plain": [
       "array([[0.73127234, 0.69253992, 0.10010398],\n",
       "       [0.71792943, 0.2577229 , 0.03070475],\n",
       "       [0.9798235 , 0.32198065, 0.81521972],\n",
       "       [0.88763569, 0.36038034, 0.54332838]])"
      ]
     },
     "execution_count": 76,
     "metadata": {},
     "output_type": "execute_result"
    }
   ],
   "source": [
    "#First step generate X\n",
    "X = np.random.uniform(0, 1, (4, 3))\n",
    "X"
   ]
  },
  {
   "cell_type": "markdown",
   "id": "b3715c70",
   "metadata": {},
   "source": [
    "若想对X的三列，用2、3、(-4)这三个数字进行线性组合，获得一个新的列向量y，如何表达成矩阵乘法？"
   ]
  },
  {
   "cell_type": "code",
   "execution_count": 77,
   "id": "b020a65e",
   "metadata": {},
   "outputs": [
    {
     "data": {
      "text/plain": [
       "array([[ 2],\n",
       "       [ 3],\n",
       "       [-4]])"
      ]
     },
     "execution_count": 77,
     "metadata": {},
     "output_type": "execute_result"
    }
   ],
   "source": [
    "#Secondly generate liner-combination K\n",
    "K = np.array([[2],[3],[-4]])\n",
    "K"
   ]
  },
  {
   "cell_type": "code",
   "execution_count": 78,
   "id": "e4152d33",
   "metadata": {},
   "outputs": [
    {
     "data": {
      "text/plain": [
       "array([[ 0.01550749,  0.06599402, -0.06797889],\n",
       "       [-0.13265749, -0.13340168, -0.08451949],\n",
       "       [-0.11328127,  0.06443316, -0.0269961 ],\n",
       "       [ 0.07538084,  0.04289019, -0.10029198]])"
      ]
     },
     "execution_count": 78,
     "metadata": {},
     "output_type": "execute_result"
    }
   ],
   "source": [
    "#Thirdly generate 'noise' data to make it looks more real\n",
    "b = np.random.normal(0,0.05,(4,3))  #X行列\n",
    "b                                  #噪声noise"
   ]
  },
  {
   "cell_type": "code",
   "execution_count": 79,
   "id": "c43b209e",
   "metadata": {},
   "outputs": [
    {
     "data": {
      "text/plain": [
       "array([[ 3.15525599,  3.20574252,  3.07176961],\n",
       "       [ 1.95355109,  1.95280691,  2.00168909],\n",
       "       [-0.44857119, -0.27085677, -0.36228602],\n",
       "       [ 0.7584797 ,  0.72598905,  0.58280689]])"
      ]
     },
     "execution_count": 79,
     "metadata": {},
     "output_type": "execute_result"
    }
   ],
   "source": [
    "#Forth generate final expression\n",
    "Y = X @ K + b\n",
    "Y"
   ]
  },
  {
   "cell_type": "code",
   "execution_count": 80,
   "id": "6d869026",
   "metadata": {},
   "outputs": [
    {
     "data": {
      "text/plain": [
       "[<matplotlib.lines.Line2D at 0x133f8c1f400>,\n",
       " <matplotlib.lines.Line2D at 0x133f8c1f4c0>,\n",
       " <matplotlib.lines.Line2D at 0x133f8c1f5e0>]"
      ]
     },
     "execution_count": 80,
     "metadata": {},
     "output_type": "execute_result"
    },
    {
     "data": {
      "image/png": "[encoded data removed]",
      "text/plain": [
       "<Figure size 432x288 with 1 Axes>"
      ]
     },
     "metadata": {
      "needs_background": "light"
     },
     "output_type": "display_data"
    }
   ],
   "source": [
    "#Draw\n",
    "import matplotlib.pylab as plt\n",
    "plt.plot(X,Y,'o')"
   ]
  }
 ],
 "metadata": {
  "hide_input": false,
  "kernelspec": {
   "display_name": "Python 3 (ipykernel)",
   "language": "python",
   "name": "python3"
  },
  "language_info": {
   "codemirror_mode": {
    "name": "ipython",
    "version": 3
   },
   "file_extension": ".py",
   "mimetype": "text/x-python",
   "name": "python",
   "nbconvert_exporter": "python",
   "pygments_lexer": "ipython3",
   "version": "3.9.7"
  },
  "toc": {
   "base_numbering": 1,
   "nav_menu": {},
   "number_sections": true,
   "sideBar": true,
   "skip_h1_title": false,
   "title_cell": "Table of Contents",
   "title_sidebar": "Contents",
   "toc_cell": false,
   "toc_position": {},
   "toc_section_display": true,
   "toc_window_display": false
  },
  "varInspector": {
   "cols": {
    "lenName": 16,
    "lenType": 16,
    "lenVar": 40
   },
   "kernels_config": {
    "python": {
     "delete_cmd_postfix": "",
     "delete_cmd_prefix": "del ",
     "library": "var_list.py",
     "varRefreshCmd": "print(var_dic_list())"
    },
    "r": {
     "delete_cmd_postfix": ") ",
     "delete_cmd_prefix": "rm(",
     "library": "var_list.r",
     "varRefreshCmd": "cat(var_dic_list()) "
    }
   },
   "types_to_exclude": [
    "module",
    "function",
    "builtin_function_or_method",
    "instance",
    "_Feature"
   ],
   "window_display": false
  }
 },
 "nbformat": 4,
 "nbformat_minor": 5
}
