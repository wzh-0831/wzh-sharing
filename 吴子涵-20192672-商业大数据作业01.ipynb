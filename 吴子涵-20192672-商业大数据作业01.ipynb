{
 "cells": [
  {
   "cell_type": "markdown",
   "id": "807417fb",
   "metadata": {},
   "source": [
    "吴子涵 20192672 计科4班"
   ]
  },
  {
   "cell_type": "markdown",
   "id": "a03ea425",
   "metadata": {},
   "source": [
    "# 第1题"
   ]
  },
  {
   "cell_type": "markdown",
   "id": "2658ba93",
   "metadata": {},
   "source": [
    "任务：用map函数一次性返回x所有元素的类型。"
   ]
  },
  {
   "cell_type": "code",
   "execution_count": 8,
   "id": "bf6621fc",
   "metadata": {},
   "outputs": [
    {
     "data": {
      "text/plain": [
       "[str, int, float, bool]"
      ]
     },
     "execution_count": 8,
     "metadata": {},
     "output_type": "execute_result"
    }
   ],
   "source": [
    "x = ['a', 1, 1.2, True]   #定义x列表元素\n",
    "list(map(type,x))         #用map函数一次性返回x所有元素的类型"
   ]
  },
  {
   "cell_type": "markdown",
   "id": "1db95645",
   "metadata": {},
   "source": [
    "# 第2题"
   ]
  },
  {
   "cell_type": "markdown",
   "id": "bfc80e16",
   "metadata": {},
   "source": [
    "任务：用map函数一次性返回x所有元素的长度。"
   ]
  },
  {
   "cell_type": "code",
   "execution_count": 9,
   "id": "5258ed6d",
   "metadata": {},
   "outputs": [
    {
     "data": {
      "text/plain": [
       "[1, 2, 3, 4]"
      ]
     },
     "execution_count": 9,
     "metadata": {},
     "output_type": "execute_result"
    }
   ],
   "source": [
    "x = ['a', 'ab', 'abc', 'abcd'] #新建列表x\n",
    "list(map(len,x))               #用map函数一次性返回x所有元素的长度"
   ]
  },
  {
   "cell_type": "markdown",
   "id": "09be03df",
   "metadata": {},
   "source": [
    "# 第3题"
   ]
  },
  {
   "cell_type": "code",
   "execution_count": 10,
   "id": "53e92e55",
   "metadata": {},
   "outputs": [
    {
     "data": {
      "text/plain": [
       "[11, 12, 13, 14, 15]"
      ]
     },
     "execution_count": 10,
     "metadata": {},
     "output_type": "execute_result"
    }
   ],
   "source": [
    "def add_10(x):                     #定义将输入参数加10的函数\n",
    "    return x+10\n",
    "x = [1,2,3,4,5]                    #定义列表x中的元素\n",
    "list(map(add_10,x))                #展示列表加10之后的列表"
   ]
  },
  {
   "cell_type": "markdown",
   "id": "db23ecdf",
   "metadata": {},
   "source": [
    "# 第4题"
   ]
  },
  {
   "cell_type": "markdown",
   "id": "23c97a72",
   "metadata": {},
   "source": [
    "自己上网查资料，学习python的lambda函数的写法。\n",
    "将上面的add函数改成lambda函数，并写出其测试代码。"
   ]
  },
  {
   "cell_type": "markdown",
   "id": "8d4e2f01",
   "metadata": {},
   "source": [
    "```\n",
    "python 使用 lambda 来创建匿名函数。\n",
    "    ①lambda只是一个表达式，函数体比def简单很多。\n",
    "    ②lambda的主体是一个表达式，而不是一个代码块。仅仅能在lambda表达式中封装有限的逻辑进去。\n",
    "    ③lambda函数拥有自己的命名空间，且不能访问自有参数列表之外或全局命名空间里的参数。\n",
    "    ④虽然lambda函数看起来只能写一行，却不等同于C或C++的内联函数，后者的目的是调用小函数时不占用栈内存从而增加运行效率。\n",
    "语法\n",
    "    lambda函数的语法只包含一个语句，如下：\n",
    "                lambda [arg1 [,arg2,.....argn]]:expression\n",
    "```"
   ]
  },
  {
   "cell_type": "code",
   "execution_count": 11,
   "id": "7c500637",
   "metadata": {},
   "outputs": [
    {
     "name": "stdout",
     "output_type": "stream",
     "text": [
      "11\n",
      "12\n",
      "13\n",
      "14\n",
      "15\n"
     ]
    }
   ],
   "source": [
    "x=[1, 2, 3, 4, 5]\n",
    "a = lambda x:x+10\n",
    "for i in x:\n",
    "    print(a(i))#print( ,end=\" \")可以打印一行，并且元素中间用“ ”中的符号空开"
   ]
  },
  {
   "cell_type": "markdown",
   "id": "fc93f0f6",
   "metadata": {},
   "source": [
    "# 第5题"
   ]
  },
  {
   "cell_type": "markdown",
   "id": "e64162bf",
   "metadata": {},
   "source": [
    "自学filter函数的使用，完成下面的任务。"
   ]
  },
  {
   "cell_type": "code",
   "execution_count": 12,
   "id": "f4c86de8",
   "metadata": {},
   "outputs": [],
   "source": [
    "x = ['a', 'b', 'c', 1, 2, 3]"
   ]
  },
  {
   "cell_type": "markdown",
   "id": "144cf8bd",
   "metadata": {},
   "source": [
    "任务：用filter函数返回只包含int类型元素的列表。"
   ]
  },
  {
   "cell_type": "code",
   "execution_count": 13,
   "id": "a73e7b0b",
   "metadata": {},
   "outputs": [
    {
     "name": "stdout",
     "output_type": "stream",
     "text": [
      "[1, 2, 3]\n"
     ]
    }
   ],
   "source": [
    "def is_int(x):\n",
    "    return type(x) == int         #定义函数\n",
    "test_List = list(filter(is_int, x))#定义新列表存储结果\n",
    "print(test_List)                   #打印"
   ]
  }
 ],
 "metadata": {
  "celltoolbar": "无",
  "hide_input": false,
  "kernelspec": {
   "display_name": "Python 3 (ipykernel)",
   "language": "python",
   "name": "python3"
  },
  "language_info": {
   "codemirror_mode": {
    "name": "ipython",
    "version": 3
   },
   "file_extension": ".py",
   "mimetype": "text/x-python",
   "name": "python",
   "nbconvert_exporter": "python",
   "pygments_lexer": "ipython3",
   "version": "3.9.7"
  },
  "toc": {
   "base_numbering": 1,
   "nav_menu": {},
   "number_sections": true,
   "sideBar": true,
   "skip_h1_title": false,
   "title_cell": "Table of Contents",
   "title_sidebar": "Contents",
   "toc_cell": false,
   "toc_position": {},
   "toc_section_display": true,
   "toc_window_display": false
  },
  "varInspector": {
   "cols": {
    "lenName": 16,
    "lenType": 16,
    "lenVar": 40
   },
   "kernels_config": {
    "python": {
     "delete_cmd_postfix": "",
     "delete_cmd_prefix": "del ",
     "library": "var_list.py",
     "varRefreshCmd": "print(var_dic_list())"
    },
    "r": {
     "delete_cmd_postfix": ") ",
     "delete_cmd_prefix": "rm(",
     "library": "var_list.r",
     "varRefreshCmd": "cat(var_dic_list()) "
    }
   },
   "types_to_exclude": [
    "module",
    "function",
    "builtin_function_or_method",
    "instance",
    "_Feature"
   ],
   "window_display": false
  }
 },
 "nbformat": 4,
 "nbformat_minor": 5
}
